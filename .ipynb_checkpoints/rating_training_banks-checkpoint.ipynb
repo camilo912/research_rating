{
 "cells": [
  {
   "cell_type": "markdown",
   "metadata": {},
   "source": [
    "# Predicción de calificaciones usando Random Forest.\n",
    "\n",
    "Problema supervisado. Cada observación corresponde a las variables asociadas a una compañía en una fecha particular. No se controla por fecha o industría.\n"
   ]
  },
  {
   "cell_type": "markdown",
   "metadata": {},
   "source": [
    "### 1. Cargar librería requeridas"
   ]
  },
  {
   "cell_type": "code",
   "execution_count": 1,
   "metadata": {},
   "outputs": [],
   "source": [
    "import pandas as pd\n",
    "import numpy as np\n",
    "import matplotlib.pyplot as plt\n",
    "import collections\n",
    "from rating_package.rating_prediction_functions import *"
   ]
  },
  {
   "cell_type": "markdown",
   "metadata": {},
   "source": [
    "### 2. Cargar archivos requeridos\n",
    "\n",
    "Para cargar los archivo de datos se debe tener en cuenta lo siguiente:\n",
    "\n",
    "* Todas las variables del archivo `research_data` que se desean incorporar al proceso de entrenamiento deben estar creadas en el archivo `features.csv`, y la llave corresponde a la columna `Key`. \n",
    "* Deben existir dos columnas para identificar las observaciones: `[Fecha, Ticker]`.\n",
    "* Debe existir variable `IssuerRating` que corresponde al output.\n",
    "* En caso de crear nuevas variables en el archivo `features.csv`, se deben evitar comas, tildes y otros símbolos."
   ]
  },
  {
   "cell_type": "code",
   "execution_count": 2,
   "metadata": {},
   "outputs": [],
   "source": [
    "# Nombres de variables y llaves:\n",
    "feat_key = pd.read_csv('data/features_banks.csv', sep=',', index_col = [\"Feature\"], encoding = \"latin1\")\n",
    "feat_key_pure = pd.read_csv('data/features_pure_banks.csv', sep=',', index_col = [\"Feature\"], encoding = \"latin1\")\n",
    "\n",
    "# Encoder para calificaciones:\n",
    "le = pd.read_csv('data/lab_encoder_banks.csv', sep=',', index_col = 0, encoding = \"latin1\")\n",
    "\n",
    "# Datos de entrenamiento:\n",
    "data = pd.read_csv('data/research_data_banks.csv', sep=',', index_col = [\"Fecha\", 'Ticker'], encoding = \"latin1\")"
   ]
  },
  {
   "cell_type": "markdown",
   "metadata": {},
   "source": [
    "### 3. Proceso de entrenamiento.\n",
    "#### 3.1. Parámetros"
   ]
  },
  {
   "cell_type": "code",
   "execution_count": 3,
   "metadata": {},
   "outputs": [],
   "source": [
    "remove_nan = True # Remover filas con datos faltantes.\n",
    "perc_train_size = 0.8 # Porcentaje de observaciones para entrenamiento.\n",
    "model_file = 'model/rating_random_forest_banks.sav' # Modelo.\n",
    "model_file_pure = 'model/rating_random_forest_pure_banks.sav' # Modelo.\n",
    "sov_encoder_file = 'model/sov_lab_encoder_banks.sav' # Encoder de rating soberano.\n",
    "output_file = 'output/pred_test_banks.csv' # Archivo de salida con prediciones.\n",
    "output_file_pure = 'output/pred_test_banks_pure.csv' # Archivo de salida con prediciones."
   ]
  },
  {
   "cell_type": "markdown",
   "metadata": {},
   "source": [
    "#### 3.2. Entrenar modelo e imprimir resultados sobre muestra de testing\n",
    "Se publican los siguientes archivos: \n",
    "\n",
    "* El archivo en la ruta `output_file` contiene las observaciones usadas para testing, el rating real y el rating que predice el argoritmo.\n",
    "\n",
    "#### 3.2.1. Entrenamiento de modelo con datos de emergentes con Riesgo Soberano."
   ]
  },
  {
   "cell_type": "code",
   "execution_count": 4,
   "metadata": {},
   "outputs": [
    {
     "name": "stderr",
     "output_type": "stream",
     "text": [
      "c:\\users\\daniel.velasquez\\appdata\\local\\programs\\python\\python36\\lib\\site-packages\\sklearn\\model_selection\\_split.py:2026: FutureWarning: From version 0.21, test_size will always complement train_size unless both are specified.\n",
      "  FutureWarning)\n"
     ]
    },
    {
     "name": "stdout",
     "output_type": "stream",
     "text": [
      "Muestra de entrenamiento: 905\n",
      "Muestra de testing: 227\n",
      "\n",
      "Score sobre muestra de testing:\n",
      "0.933920704845815\n",
      "\n"
     ]
    },
    {
     "name": "stderr",
     "output_type": "stream",
     "text": [
      "c:\\users\\daniel.velasquez\\appdata\\local\\programs\\python\\python36\\lib\\site-packages\\sklearn\\preprocessing\\label.py:151: DeprecationWarning: The truth value of an empty array is ambiguous. Returning False, but in future this will result in an error. Use `array.size > 0` to check that an array is not empty.\n",
      "  if diff:\n"
     ]
    },
    {
     "name": "stdout",
     "output_type": "stream",
     "text": [
      "\n",
      "Ranking:\n",
      "1. Rating Soberano (0.121323)\n",
      "2.  Equity + Allowances Losses / Loans LTM (0.043390)\n",
      "3.  Asset Turnover Anualizado LTM (0.041291)\n",
      "4.  Productive Assets / Int. Bearing Liab. LTM (0.040680)\n",
      "5.  Total Gross Loans / Total Deposits LTM (0.039376)\n",
      "6.  NII / Productive Assets (Trimestre Anualizado) LTM (0.038659)\n",
      "7.  Non-Interest Expenses / Total Income LTM (0.036775)\n",
      "8.  Total Deposits / Total Liabilities LTM (0.036433)\n",
      "9.  Equity + Allowances Losses / Loans (0.035808)\n",
      "10.  Total Gross Loans / Total Deposits (0.035324)\n",
      "11.  NII / Productive Assets (Trimestre Anualizado) (0.035041)\n",
      "12.  Allowances / G. Loans LTM (0.033551)\n",
      "13.  Leverage (ROE / ROA) LTM (0.033310)\n",
      "14.  Asset Turnover Anualizado (0.031198)\n",
      "15.  Non-Interest Income / Total Income LTM (0.031096)\n",
      "16.  Liquid Assets / Total Assets LTM (0.030731)\n",
      "17.  Total Deposits / Total Liabilities (0.030014)\n",
      "18.  Allowances / G. Loans (0.028836)\n",
      "19.  Productive Assets / Int. Bearing Liab. (0.028464)\n",
      "20.  Return on Assets (Trimestre Anualizado) LTM (0.028386)\n",
      "21.  Net Margin del Trimestre LTM (0.028024)\n",
      "22.  Leverage (ROE / ROA) (0.027510)\n",
      "23.  Liquid Assets / Total Assets (0.026507)\n",
      "24.  Prov. Exp. /  Gross Loans (Anualizado) LTM (0.024720)\n",
      "25.  Return on Equity LTM (0.022045)\n",
      "26.  Non-Interest Income / Total Income (0.019546)\n",
      "27.  Non-Interest Expenses / Total Income (0.017674)\n",
      "28.  Prov. Exp. /  Gross Loans (Anualizado) (0.014731)\n",
      "29.  Return on Assets (Trimestre Anualizado) (0.014210)\n",
      "30.  Net Margin del Trimestre (0.013200)\n",
      "31.  Return on Equity (0.012145)\n",
      "\n"
     ]
    },
    {
     "data": {
      "image/png": "[encoded data removed]",
      "text/plain": [
       "<Figure size 432x288 with 1 Axes>"
      ]
     },
     "metadata": {},
     "output_type": "display_data"
    }
   ],
   "source": [
    "model_training(data, feat_key, le, remove_nan, perc_train_size, output_file, model_file, sov_encoder_file)"
   ]
  },
  {
   "cell_type": "markdown",
   "metadata": {
    "collapsed": true
   },
   "source": [
    "#### 3.2.2. Entrenamiento de modelo con datos de desarrollados sin Riesgo Soberano."
   ]
  },
  {
   "cell_type": "code",
   "execution_count": 5,
   "metadata": {},
   "outputs": [
    {
     "name": "stderr",
     "output_type": "stream",
     "text": [
      "c:\\users\\daniel.velasquez\\appdata\\local\\programs\\python\\python36\\lib\\site-packages\\sklearn\\model_selection\\_split.py:2026: FutureWarning: From version 0.21, test_size will always complement train_size unless both are specified.\n",
      "  FutureWarning)\n"
     ]
    },
    {
     "name": "stdout",
     "output_type": "stream",
     "text": [
      "Muestra de entrenamiento: 905\n",
      "Muestra de testing: 227\n",
      "\n",
      "Score sobre muestra de testing:\n",
      "0.8766519823788547\n",
      "\n",
      "\n",
      "Ranking:\n",
      "1.  Equity + Allowances Losses / Loans LTM (0.051442)\n",
      "2.  Asset Turnover Anualizado LTM (0.049486)\n",
      "3.  Total Gross Loans / Total Deposits LTM (0.049088)\n",
      "4.  Productive Assets / Int. Bearing Liab. LTM (0.044032)\n",
      "5.  Total Deposits / Total Liabilities LTM (0.042765)\n",
      "6.  Non-Interest Expenses / Total Income LTM (0.042405)\n",
      "7.  Equity + Allowances Losses / Loans (0.040208)\n",
      "8.  NII / Productive Assets (Trimestre Anualizado) LTM (0.039790)\n",
      "9.  NII / Productive Assets (Trimestre Anualizado) (0.039530)\n",
      "10.  Total Gross Loans / Total Deposits (0.038328)\n",
      "11.  Allowances / G. Loans LTM (0.038148)\n",
      "12.  Leverage (ROE / ROA) LTM (0.037637)\n",
      "13.  Allowances / G. Loans (0.036695)\n",
      "14.  Asset Turnover Anualizado (0.036457)\n",
      "15.  Total Deposits / Total Liabilities (0.034611)\n",
      "16.  Liquid Assets / Total Assets LTM (0.034122)\n",
      "17.  Non-Interest Income / Total Income LTM (0.033593)\n",
      "18.  Leverage (ROE / ROA) (0.032707)\n",
      "19.  Productive Assets / Int. Bearing Liab. (0.031577)\n",
      "20.  Return on Assets (Trimestre Anualizado) LTM (0.030658)\n",
      "21.  Net Margin del Trimestre LTM (0.030337)\n",
      "22.  Prov. Exp. /  Gross Loans (Anualizado) LTM (0.027669)\n",
      "23.  Liquid Assets / Total Assets (0.027409)\n",
      "24.  Return on Equity LTM (0.026070)\n",
      "25.  Non-Interest Income / Total Income (0.022658)\n",
      "26.  Non-Interest Expenses / Total Income (0.018673)\n",
      "27.  Return on Assets (Trimestre Anualizado) (0.016400)\n",
      "28.  Net Margin del Trimestre (0.016089)\n",
      "29.  Prov. Exp. /  Gross Loans (Anualizado) (0.016071)\n",
      "30.  Return on Equity (0.015346)\n",
      "\n"
     ]
    },
    {
     "data": {
      "image/png": "[encoded data removed]",
      "text/plain": [
       "<Figure size 432x288 with 1 Axes>"
      ]
     },
     "metadata": {},
     "output_type": "display_data"
    }
   ],
   "source": [
    "data = pd.read_csv('data/research_data_banks.csv', sep=',', index_col = [\"Fecha\", 'Ticker'], encoding = \"latin1\")\n",
    "model_training(data, feat_key_pure, le, remove_nan, perc_train_size, output_file_pure, model_file_pure, sov_encoder_file)"
   ]
  },
  {
   "cell_type": "code",
   "execution_count": 6,
   "metadata": {},
   "outputs": [
    {
     "data": {
      "text/plain": [
       "<matplotlib.axes._subplots.AxesSubplot at 0x19a83829e8>"
      ]
     },
     "execution_count": 6,
     "metadata": {},
     "output_type": "execute_result"
    },
    {
     "data": {
      "image/png": "[encoded data removed]",
      "text/plain": [
       "<Figure size 432x288 with 1 Axes>"
      ]
     },
     "metadata": {},
     "output_type": "display_data"
    }
   ],
   "source": [
    "data = pd.read_csv('data/research_data_banks.csv', sep=',', index_col = [\"Fecha\", 'Ticker'], encoding = \"latin1\")\n",
    "pd.Series(np.array(data['IssuerRating'])).value_counts().plot('bar')\n"
   ]
  },
  {
   "cell_type": "code",
   "execution_count": null,
   "metadata": {},
   "outputs": [],
   "source": []
  }
 ],
 "metadata": {
  "kernelspec": {
   "display_name": "Python 3",
   "language": "python",
   "name": "python3"
  },
  "language_info": {
   "codemirror_mode": {
    "name": "ipython",
    "version": 3
   },
   "file_extension": ".py",
   "mimetype": "text/x-python",
   "name": "python",
   "nbconvert_exporter": "python",
   "pygments_lexer": "ipython3",
   "version": "3.6.5"
  }
 },
 "nbformat": 4,
 "nbformat_minor": 2
}
