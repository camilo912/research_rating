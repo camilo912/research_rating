{
 "cells": [
  {
   "cell_type": "markdown",
   "metadata": {},
   "source": [
    "# Predicción de calificaciones usando Random Forest.\n",
    "\n",
    "Problema supervisado. Cada observación corresponde a las variables asociadas a una compañía en una fecha particular. No se controla por fecha o industría.\n"
   ]
  },
  {
   "cell_type": "markdown",
   "metadata": {},
   "source": [
    "### 1. Cargar librería requeridas"
   ]
  },
  {
   "cell_type": "code",
   "execution_count": 1,
   "metadata": {},
   "outputs": [],
   "source": [
    "import pandas as pd\n",
    "from rating_package.rating_prediction_functions import *"
   ]
  },
  {
   "cell_type": "markdown",
   "metadata": {},
   "source": [
    "### 2. Cargar archivos requeridos\n",
    "\n",
    "Para cargar los archivo de datos se debe tener en cuenta lo siguiente:\n",
    "\n",
    "* Todas las variables del archivo `research_data` que se desean incorporar al proceso de entrenamiento deben estar creadas en el archivo `features.csv`, y la llave corresponde a la columna `Key`. \n",
    "* Deben existir dos columnas para identificar las observaciones: `[Fecha, Ticker]`.\n",
    "* Debe existir variable `IssuerRating` que corresponde al output.\n",
    "* En caso de crear nuevas variables en el archivo `features.csv`, se deben evitar comas, tildes y otros símbolos."
   ]
  },
  {
   "cell_type": "code",
   "execution_count": 2,
   "metadata": {},
   "outputs": [],
   "source": [
    "# Nombres de variables y llaves:\n",
    "feat_key = pd.read_csv('data/features.csv', sep=',', index_col = [\"Feature\"], encoding = \"latin1\")\n",
    "feat_key_pure = pd.read_csv('data/features_pure.csv', sep=',', index_col = [\"Feature\"], encoding = \"latin1\")\n",
    "\n",
    "# Encoder para calificaciones:\n",
    "le = pd.read_csv('data/lab_encoder.csv', sep=',', index_col = 0, encoding = \"latin1\")\n",
    "\n",
    "# Datos de entrenamiento:\n",
    "data_em = pd.read_csv('data/research_data_em.csv', sep=',', index_col = [\"Fecha\", 'Ticker'], encoding = \"latin1\")\n",
    "data_dm = pd.read_csv('data/research_data_dm.csv', sep=',', index_col = [\"Fecha\", 'Ticker'], encoding = \"latin1\")\n"
   ]
  },
  {
   "cell_type": "markdown",
   "metadata": {},
   "source": [
    "### 3. Proceso de entrenamiento.\n",
    "#### 3.1. Parámetros"
   ]
  },
  {
   "cell_type": "code",
   "execution_count": 3,
   "metadata": {},
   "outputs": [],
   "source": [
    "remove_nan = True # Remover filas con datos faltantes.\n",
    "perc_train_size = 0.8 # Porcentaje de observaciones para entrenamiento.\n",
    "model_file = 'model/rating_random_forest_em.sav' # Modelo.\n",
    "model_file_pure = 'model/rating_random_forest_pure.sav' # Modelo.\n",
    "sov_encoder_file = 'model/sov_lab_encoder_em.sav' # Encoder de rating soberano.\n",
    "output_file = 'output/pred_test.csv' # Archivo de salida con prediciones.\n",
    "output_file_pure = 'output/pred_test_pure.csv' # Archivo de salida con prediciones.\n"
   ]
  },
  {
   "cell_type": "markdown",
   "metadata": {},
   "source": [
    "#### 3.2. Entrenar modelo e imprimir resultados sobre muestra de testing\n",
    "Se publican los siguientes archivos: \n",
    "\n",
    "* El archivo en la ruta `output_file` contiene las observaciones usadas para testing, el rating real y el rating que predice el argoritmo.\n",
    "\n",
    "#### 3.2.1. Entrenamiento de modelo con datos de emergentes con Riesgo Soberano."
   ]
  },
  {
   "cell_type": "code",
   "execution_count": 4,
   "metadata": {},
   "outputs": [
    {
     "name": "stderr",
     "output_type": "stream",
     "text": [
      "c:\\users\\daniel.velasquez\\appdata\\local\\programs\\python\\python36\\lib\\site-packages\\sklearn\\model_selection\\_split.py:2026: FutureWarning: From version 0.21, test_size will always complement train_size unless both are specified.\n",
      "  FutureWarning)\n"
     ]
    },
    {
     "name": "stdout",
     "output_type": "stream",
     "text": [
      "Muestra de entrenamiento: 1485\n",
      "Muestra de testing: 372\n",
      "\n",
      "Score sobre muestra de testing:\n",
      "0.8655913978494624\n",
      "\n",
      "\n",
      "Ranking:\n",
      "1. Rating Soberano País de Origen Deuda LP Moneda Extranjera (0.062973)\n",
      "2. Ingresos del Trimestre Anualizados / Total Activo (Promedio LTM) (0.056966)\n",
      "3. EBITDA del Trimestre Anualizado / Intereses (Promedio LTM) (0.045376)\n",
      "4. Ingresos del Trimestre Anualizados / Total Activo (0.045076)\n",
      "5. Activo Corto Plazo / Pasivo Corto Plazo (Promedio LTM) (0.044763)\n",
      "6. Deuda Neta / EBITDA del Trimestre Anualizado (Promedio LTM) (0.044241)\n",
      "7. Margen EBITDA del Trimestre (Promedio LTM) (0.043634)\n",
      "8. Total Activo / Total Patrimonio (0.041906)\n",
      "9. Deuda Bruta / Activo (Promedio LTM) (0.041774)\n",
      "10. Total Activo / Total Patrimonio (Promedio LTM) (0.041356)\n",
      "11. Deuda de Corto Plazo / Deuda Total (Promedio LTM) (0.041312)\n",
      "12. EBITDA del Trimestre Anualizado / Deuda Corto Plazo (Promedio LTM) (0.040229)\n",
      "13. Deuda Bruta / Activo (0.039594)\n",
      "14. Margen Neto del Trimestre (Promedio LTM) (0.036226)\n",
      "15. Utilidad Operacional del Trimestre / Activo Total (Promedio LTM) (0.034679)\n",
      "16. EBITDA del Trimestre Anualizado / Intereses (0.034039)\n",
      "17. Activo Corto Plazo / Pasivo Corto Plazo (0.033581)\n",
      "18. Margen EBITDA del Trimestre (0.033105)\n",
      "19. Deuda Neta / EBITDA del Trimestre Anualizado (0.032583)\n",
      "20. Deuda de Corto Plazo / Deuda Total (0.032196)\n",
      "21. Utilidad Neta del Trimestre Anualizada / Total Patrimonio (Promedio LTM) (0.031935)\n",
      "22. Crecimiento del EBITDA Últimos 12 Meses EBITDA (Promedio LTM) (0.028095)\n",
      "23. EBITDA del Trimestre Anualizado / Deuda Corto Plazo (0.027849)\n",
      "24. Utilidad Operacional del Trimestre / Activo Total (0.023254)\n",
      "25. Margen Neto del Trimestre (0.022284)\n",
      "26. Crecimiento del EBITDA Últimos 12 Meses EBITDA (0.021460)\n",
      "27. Utilidad Neta del Trimestre Anualizada / Total Patrimonio (0.019514)\n",
      "\n"
     ]
    },
    {
     "name": "stderr",
     "output_type": "stream",
     "text": [
      "c:\\users\\daniel.velasquez\\appdata\\local\\programs\\python\\python36\\lib\\site-packages\\sklearn\\preprocessing\\label.py:151: DeprecationWarning: The truth value of an empty array is ambiguous. Returning False, but in future this will result in an error. Use `array.size > 0` to check that an array is not empty.\n",
      "  if diff:\n"
     ]
    },
    {
     "data": {
      "text/plain": [
       "<Figure size 640x480 with 1 Axes>"
      ]
     },
     "metadata": {},
     "output_type": "display_data"
    }
   ],
   "source": [
    "model_training(data_em, feat_key, le, remove_nan, perc_train_size, output_file, model_file, sov_encoder_file)"
   ]
  },
  {
   "cell_type": "markdown",
   "metadata": {
    "collapsed": true
   },
   "source": [
    "#### 3.2.2. Entrenamiento de modelo con datos de desarrollados sin Riesgo Soberano."
   ]
  },
  {
   "cell_type": "code",
   "execution_count": 5,
   "metadata": {},
   "outputs": [
    {
     "name": "stderr",
     "output_type": "stream",
     "text": [
      "c:\\users\\daniel.velasquez\\appdata\\local\\programs\\python\\python36\\lib\\site-packages\\sklearn\\model_selection\\_split.py:2026: FutureWarning: From version 0.21, test_size will always complement train_size unless both are specified.\n",
      "  FutureWarning)\n"
     ]
    },
    {
     "name": "stdout",
     "output_type": "stream",
     "text": [
      "Muestra de entrenamiento: 4535\n",
      "Muestra de testing: 1134\n",
      "\n",
      "Score sobre muestra de testing:\n",
      "0.8386243386243386\n",
      "\n",
      "\n",
      "Ranking:\n",
      "1. EBITDA del Trimestre Anualizado / Intereses (Promedio LTM) (0.058111)\n",
      "2. Activo Corto Plazo / Pasivo Corto Plazo (Promedio LTM) (0.052094)\n",
      "3. Margen EBITDA del Trimestre (Promedio LTM) (0.048209)\n",
      "4. Ingresos del Trimestre Anualizados / Total Activo (Promedio LTM) (0.048030)\n",
      "5. Deuda Bruta / Activo (Promedio LTM) (0.045496)\n",
      "6. Deuda Neta / EBITDA del Trimestre Anualizado (Promedio LTM) (0.043823)\n",
      "7. Activo Corto Plazo / Pasivo Corto Plazo (0.043233)\n",
      "8. Total Activo / Total Patrimonio (Promedio LTM) (0.043158)\n",
      "9. Deuda Bruta / Activo (0.041932)\n",
      "10. Margen Neto del Trimestre (Promedio LTM) (0.041790)\n",
      "11. Total Activo / Total Patrimonio (0.041105)\n",
      "12. Ingresos del Trimestre Anualizados / Total Activo (0.040395)\n",
      "13. Utilidad Operacional del Trimestre / Activo Total (Promedio LTM) (0.040366)\n",
      "14. Deuda de Corto Plazo / Deuda Total (Promedio LTM) (0.040029)\n",
      "15. EBITDA del Trimestre Anualizado / Intereses (0.039298)\n",
      "16. EBITDA del Trimestre Anualizado / Deuda Corto Plazo (Promedio LTM) (0.038051)\n",
      "17. Utilidad Neta del Trimestre Anualizada / Total Patrimonio (Promedio LTM) (0.036055)\n",
      "18. Margen EBITDA del Trimestre (0.035957)\n",
      "19. Crecimiento del EBITDA Últimos 12 Meses EBITDA (Promedio LTM) (0.032817)\n",
      "20. Deuda de Corto Plazo / Deuda Total (0.032724)\n",
      "21. Deuda Neta / EBITDA del Trimestre Anualizado (0.032550)\n",
      "22. EBITDA del Trimestre Anualizado / Deuda Corto Plazo (0.027182)\n",
      "23. Margen Neto del Trimestre (0.026174)\n",
      "24. Utilidad Operacional del Trimestre / Activo Total (0.025973)\n",
      "25. Crecimiento del EBITDA Últimos 12 Meses EBITDA (0.022806)\n",
      "26. Utilidad Neta del Trimestre Anualizada / Total Patrimonio (0.022644)\n",
      "\n"
     ]
    },
    {
     "data": {
      "image/png": "[encoded data removed]",
      "text/plain": [
       "<Figure size 432x288 with 1 Axes>"
      ]
     },
     "metadata": {},
     "output_type": "display_data"
    }
   ],
   "source": [
    "model_training(data_dm, feat_key_pure, le, remove_nan, perc_train_size, output_file_pure, model_file_pure, sov_encoder_file)"
   ]
  },
  {
   "cell_type": "code",
   "execution_count": null,
   "metadata": {
    "collapsed": true
   },
   "outputs": [],
   "source": []
  }
 ],
 "metadata": {
  "kernelspec": {
   "display_name": "Python 3",
   "language": "python",
   "name": "python3"
  },
  "language_info": {
   "codemirror_mode": {
    "name": "ipython",
    "version": 3
   },
   "file_extension": ".py",
   "mimetype": "text/x-python",
   "name": "python",
   "nbconvert_exporter": "python",
   "pygments_lexer": "ipython3",
   "version": "3.6.5"
  }
 },
 "nbformat": 4,
 "nbformat_minor": 2
}
