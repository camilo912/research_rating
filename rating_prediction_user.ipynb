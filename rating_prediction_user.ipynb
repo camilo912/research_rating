{
 "cells": [
  {
   "cell_type": "markdown",
   "metadata": {},
   "source": [
    "# Predicción de calificaciones usando Random Forest."
   ]
  },
  {
   "cell_type": "markdown",
   "metadata": {},
   "source": [
    "### 1. Cargar librería requeridas"
   ]
  },
  {
   "cell_type": "code",
   "execution_count": 1,
   "metadata": {
    "collapsed": true
   },
   "outputs": [],
   "source": [
    "import pandas as pd\n",
    "from sklearn.externals import joblib\n",
    "from rating_package.rating_prediction_functions import *\n",
    "feat_key = pd.read_csv('data/features.csv', sep=',', index_col = [\"Feature\"], encoding = \"latin1\")\n",
    "le = pd.read_csv('data/lab_encoder.csv', sep=',', index_col = 0, encoding = \"latin1\")\n",
    "rf = joblib.load('model/rating_random_forest_em.sav')\n",
    "rf_pure = joblib.load('model/rating_random_forest_pure.sav')\n",
    "sov_lab_encoder = joblib.load('model/sov_lab_encoder_em.sav')"
   ]
  },
  {
   "cell_type": "markdown",
   "metadata": {},
   "source": [
    "### 2. Cargar archivos y modelos\n",
    "\n",
    "Para cargar los archivos de datos se debe tener en cuenta lo siguiente:\n",
    "\n",
    "* Todas las variables del archivo `rating_pred` que se desean incorporar al proceso de entrenamiento deben estar creadas en el archivo `features.csv`, y la llave corresponde a la columna `Feature`. \n",
    "* En caso de crear nuevas variables en el archivo `features.csv`, se deben evitar comas, tildes y otros símbolos."
   ]
  },
  {
   "cell_type": "code",
   "execution_count": 2,
   "metadata": {
    "collapsed": true
   },
   "outputs": [],
   "source": [
    "# Datos para predicción:\n",
    "data = pd.read_csv('data/rating_pred.csv', sep=',', index_col = [\"Indicadores\"], encoding = \"latin1\")"
   ]
  },
  {
   "cell_type": "markdown",
   "metadata": {},
   "source": [
    "### 3. Predicción."
   ]
  },
  {
   "cell_type": "code",
   "execution_count": 3,
   "metadata": {
    "collapsed": true
   },
   "outputs": [],
   "source": [
    "output_file = 'output/stracon.csv' # Nombre de archivo donde se publican los resultados. "
   ]
  },
  {
   "cell_type": "code",
   "execution_count": 4,
   "metadata": {},
   "outputs": [
    {
     "data": {
      "text/plain": [
       "(27, 28)"
      ]
     },
     "execution_count": 4,
     "metadata": {},
     "output_type": "execute_result"
    }
   ],
   "source": [
    "data.shape"
   ]
  },
  {
   "cell_type": "code",
   "execution_count": 5,
   "metadata": {},
   "outputs": [
    {
     "name": "stdout",
     "output_type": "stream",
     "text": [
      "Predicción Rating:\n",
      "\n",
      "   Periodo Rating Predicc Rating Pure Rating Local Trad\n",
      "0     1T16            BB+        BBB-                AA\n",
      "1     2T16            BB+        BBB-                AA\n",
      "2     3T16            BB+        BBB-                AA\n",
      "3     4T16            BB+        BBB-                AA\n",
      "4     1T17            BB+        BBB-                AA\n",
      "5     2T17            BB+        BBB-                AA\n",
      "6     3T17            BB+         BB+               AA-\n",
      "7     4T17            BB+         BB+               AA-\n",
      "8     1T18            BB+          BB                A+\n",
      "9     2T18            BB+          BB                A+\n",
      "10    3T18            BB+         BB+               AA-\n",
      "11    4T18            BB+         BB-                 A\n",
      "12    1T19            BB+          BB                A+\n",
      "13    2T19            BB+        BBB-                AA\n",
      "14    3T19            BB+        BBB-                AA\n",
      "15    4T19            BB+          BB                A+\n",
      "16    1T20            BB+        BBB-                AA\n",
      "17    2T20            BB+        BBB-                AA\n",
      "18    3T20            BB+          BB                A+\n",
      "19    4T20            BB+        BBB-                AA\n",
      "20    1T21            BB+        BBB-                AA\n",
      "21    2T21            BB+        BBB-                AA\n",
      "22    3T21            BB+        BBB-                AA\n",
      "23    4T21            BB+        BBB-                AA\n",
      "24    1T22            BB+        BBB-                AA\n",
      "25    2T22            BB+         BB+               AA-\n",
      "26    3T22            BB+         BB+               AA-\n",
      "27    4T22            BB+         BB+               AA-\n"
     ]
    }
   ],
   "source": [
    "rating_prediction(data, rf, rf_pure, feat_key, le, sov_lab_encoder, output_file)"
   ]
  },
  {
   "cell_type": "code",
   "execution_count": null,
   "metadata": {
    "collapsed": true
   },
   "outputs": [],
   "source": []
  }
 ],
 "metadata": {
  "kernelspec": {
   "display_name": "Python 3",
   "language": "python",
   "name": "python3"
  },
  "language_info": {
   "codemirror_mode": {
    "name": "ipython",
    "version": 3
   },
   "file_extension": ".py",
   "mimetype": "text/x-python",
   "name": "python",
   "nbconvert_exporter": "python",
   "pygments_lexer": "ipython3",
   "version": "3.6.3"
  }
 },
 "nbformat": 4,
 "nbformat_minor": 2
}
