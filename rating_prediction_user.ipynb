{
 "cells": [
  {
   "cell_type": "markdown",
   "metadata": {},
   "source": [
    "# Predicción de calificaciones usando Random Forest."
   ]
  },
  {
   "cell_type": "markdown",
   "metadata": {},
   "source": [
    "### 1. Cargar librería requeridas"
   ]
  },
  {
   "cell_type": "code",
   "execution_count": 1,
   "metadata": {},
   "outputs": [],
   "source": [
    "import pandas as pd\n",
    "from sklearn.externals import joblib\n",
    "from rating_package.rating_prediction_functions import *\n",
    "feat_key = pd.read_csv('data/features.csv', sep=',', index_col = [\"Feature\"], encoding = \"latin1\")\n",
    "le = pd.read_csv('data/lab_encoder.csv', sep=',', index_col = 0, encoding = \"latin1\")\n",
    "rf = joblib.load('model/rating_random_forest_em.sav')\n",
    "rf_pure = joblib.load('model/rating_random_forest_pure.sav')\n",
    "sov_lab_encoder = joblib.load('model/sov_lab_encoder_em.sav')"
   ]
  },
  {
   "cell_type": "markdown",
   "metadata": {},
   "source": [
    "### 2. Cargar archivos y modelos\n",
    "\n",
    "Para cargar los archivos de datos se debe tener en cuenta lo siguiente:\n",
    "\n",
    "* Todas las variables del archivo `rating_pred` que se desean incorporar al proceso de entrenamiento deben estar creadas en el archivo `features.csv`, y la llave corresponde a la columna `Feature`. \n",
    "* En caso de crear nuevas variables en el archivo `features.csv`, se deben evitar comas, tildes y otros símbolos."
   ]
  },
  {
   "cell_type": "code",
   "execution_count": 2,
   "metadata": {},
   "outputs": [],
   "source": [
    "# Datos para predicción:\n",
    "data = pd.read_csv('input/rating_pred.csv', sep=',', index_col = [\"Indicadores\"], encoding = \"latin1\")"
   ]
  },
  {
   "cell_type": "markdown",
   "metadata": {},
   "source": [
    "### 3. Predicción."
   ]
  },
  {
   "cell_type": "code",
   "execution_count": 3,
   "metadata": {},
   "outputs": [],
   "source": [
    "output_file = 'output/latam.csv' # Nombre de archivo donde se publican los resultados. "
   ]
  },
  {
   "cell_type": "code",
   "execution_count": 4,
   "metadata": {},
   "outputs": [
    {
     "data": {
      "text/plain": [
       "(27, 47)"
      ]
     },
     "execution_count": 4,
     "metadata": {},
     "output_type": "execute_result"
    }
   ],
   "source": [
    "data.shape"
   ]
  },
  {
   "cell_type": "code",
   "execution_count": 5,
   "metadata": {},
   "outputs": [
    {
     "name": "stdout",
     "output_type": "stream",
     "text": [
      "Predicción Rating:\n",
      "\n",
      "   Periodo Rating Predicc Rating Pure Rating Local Trad\n",
      "0     2T17             BB        BBB+               AAA\n",
      "1     3T17             BB        BBB+               AAA\n",
      "2     4T17             BB        BBB+               AAA\n",
      "3     1T18             BB        BBB+               AAA\n",
      "4     2T18            BBB        BBB+               AAA\n",
      "5     3T18            BBB        BBB+               AAA\n",
      "6     4T18             BB        BBB+               AAA\n",
      "7     1T19             BB        BBB+               AAA\n",
      "8     2T19            BBB        BBB+               AAA\n",
      "9     3T19            BBB        BBB+               AAA\n",
      "10    4T19             BB        BBB+               AAA\n",
      "11    1T20             BB        BBB+               AAA\n",
      "12    2T20            BBB        BBB+               AAA\n",
      "13    3T20             BB        BBB+               AAA\n",
      "14    4T20             BB        BBB+               AAA\n",
      "15    1T21             BB         BBB               AA+\n",
      "16    2T21            BB+        BBB+               AAA\n",
      "17    3T21           BBB-          BB                A+\n",
      "18    4T21            BB+          A-               AAA\n",
      "19    1T22            BB+          A-               AAA\n",
      "20    2T22            BB+         AA-               AAA\n",
      "21    3T22           BBB-         BBB               AA+\n",
      "22    4T22            BB+        BBB+               AAA\n",
      "23    1T23            BB+         AA-               AAA\n",
      "24    2T23            BBB        BBB+               AAA\n",
      "25    3T23            BB+         AA-               AAA\n",
      "26    4T23            BB+         AA-               AAA\n",
      "27    1T24            BB+         AA-               AAA\n",
      "28    2T24            BB+         AA-               AAA\n",
      "29    3T24            BB+         AA-               AAA\n",
      "30    4T24            BB+         BBB               AA+\n",
      "31    1T25            BB+         BBB               AA+\n",
      "32    2T25            BB+         BBB               AA+\n",
      "33    3T25            BB+         BBB               AA+\n",
      "34    4T25            BB+         BBB               AA+\n",
      "35    1T26            BB+         BBB               AA+\n",
      "36    2T26            BB+         BBB               AA+\n",
      "37    3T26            BB+        BBB+               AAA\n",
      "38    4T26            BB+         BBB               AA+\n",
      "39    1T27            BB+         BBB               AA+\n",
      "40    2T27            BB+         BBB               AA+\n",
      "41    3T27           BBB-        BBB-                AA\n",
      "42    4T27           BBB-        BBB-                AA\n",
      "43    1T28           BBB-        BBB-                AA\n",
      "44    2T28            BB+          BB                A+\n",
      "45    3T28            BB+          A+               AAA\n",
      "46    4T28            BB+         BBB               AA+\n"
     ]
    },
    {
     "name": "stderr",
     "output_type": "stream",
     "text": [
      "c:\\users\\daniel.velasquez\\appdata\\local\\programs\\python\\python36\\lib\\site-packages\\sklearn\\preprocessing\\label.py:151: DeprecationWarning: The truth value of an empty array is ambiguous. Returning False, but in future this will result in an error. Use `array.size > 0` to check that an array is not empty.\n",
      "  if diff:\n"
     ]
    }
   ],
   "source": [
    "rating_prediction(data, rf, rf_pure, feat_key, le, sov_lab_encoder, output_file)"
   ]
  },
  {
   "cell_type": "code",
   "execution_count": null,
   "metadata": {},
   "outputs": [],
   "source": []
  }
 ],
 "metadata": {
  "kernelspec": {
   "display_name": "Python 3",
   "language": "python",
   "name": "python3"
  },
  "language_info": {
   "codemirror_mode": {
    "name": "ipython",
    "version": 3
   },
   "file_extension": ".py",
   "mimetype": "text/x-python",
   "name": "python",
   "nbconvert_exporter": "python",
   "pygments_lexer": "ipython3",
   "version": "3.6.5"
  }
 },
 "nbformat": 4,
 "nbformat_minor": 2
}
