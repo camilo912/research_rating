{
 "cells": [
  {
   "cell_type": "markdown",
   "metadata": {},
   "source": [
    "# Predicción de calificaciones usando Random Forest.\n",
    "\n",
    "Problema supervisado. Cada observación corresponde a las variables asociadas a una compañía en una fecha particular. No se controla por fecha o industría.\n"
   ]
  },
  {
   "cell_type": "markdown",
   "metadata": {},
   "source": [
    "### 1. Cargar librería requeridas"
   ]
  },
  {
   "cell_type": "code",
   "execution_count": 28,
   "metadata": {},
   "outputs": [],
   "source": [
    "import pandas as pd\n",
    "import numpy as np\n",
    "import matplotlib.pyplot as plt\n",
    "import collections\n",
    "from rating_package.rating_prediction_functions import *"
   ]
  },
  {
   "cell_type": "markdown",
   "metadata": {},
   "source": [
    "### 2. Cargar archivos requeridos\n",
    "\n",
    "Para cargar los archivo de datos se debe tener en cuenta lo siguiente:\n",
    "\n",
    "* Todas las variables del archivo `research_data` que se desean incorporar al proceso de entrenamiento deben estar creadas en el archivo `features.csv`, y la llave corresponde a la columna `Key`. \n",
    "* Deben existir dos columnas para identificar las observaciones: `[Fecha, Ticker]`.\n",
    "* Debe existir variable `IssuerRating` que corresponde al output.\n",
    "* En caso de crear nuevas variables en el archivo `features.csv`, se deben evitar comas, tildes y otros símbolos."
   ]
  },
  {
   "cell_type": "code",
   "execution_count": 12,
   "metadata": {},
   "outputs": [],
   "source": [
    "# Nombres de variables y llaves:\n",
    "feat_key = pd.read_csv('data/features_banks.csv', sep=',', index_col = [\"Feature\"], encoding = \"latin1\")\n",
    "feat_key_pure = pd.read_csv('data/features_pure_banks.csv', sep=',', index_col = [\"Feature\"], encoding = \"latin1\")\n",
    "\n",
    "# Encoder para calificaciones:\n",
    "le = pd.read_csv('data/lab_encoder_banks.csv', sep=',', index_col = 0, encoding = \"latin1\")\n",
    "\n",
    "# Datos de entrenamiento:\n",
    "data = pd.read_csv('data/research_data_banks.csv', sep=',', index_col = [\"Fecha\", 'Ticker'], encoding = \"latin1\")"
   ]
  },
  {
   "cell_type": "markdown",
   "metadata": {},
   "source": [
    "### 3. Proceso de entrenamiento.\n",
    "#### 3.1. Parámetros"
   ]
  },
  {
   "cell_type": "code",
   "execution_count": 9,
   "metadata": {},
   "outputs": [],
   "source": [
    "remove_nan = True # Remover filas con datos faltantes.\n",
    "perc_train_size = 0.8 # Porcentaje de observaciones para entrenamiento.\n",
    "model_file = 'model/rating_random_forest_banks.sav' # Modelo.\n",
    "model_file_pure = 'model/rating_random_forest_pure_banks.sav' # Modelo.\n",
    "sov_encoder_file = 'model/sov_lab_encoder_banks.sav' # Encoder de rating soberano.\n",
    "output_file = 'output/pred_test_banks.csv' # Archivo de salida con prediciones.\n",
    "output_file_pure = 'output/pred_test_banks_pure.csv' # Archivo de salida con prediciones."
   ]
  },
  {
   "cell_type": "markdown",
   "metadata": {},
   "source": [
    "#### 3.2. Entrenar modelo e imprimir resultados sobre muestra de testing\n",
    "Se publican los siguientes archivos: \n",
    "\n",
    "* El archivo en la ruta `output_file` contiene las observaciones usadas para testing, el rating real y el rating que predice el argoritmo.\n",
    "\n",
    "#### 3.2.1. Entrenamiento de modelo con datos de emergentes con Riesgo Soberano."
   ]
  },
  {
   "cell_type": "code",
   "execution_count": 10,
   "metadata": {},
   "outputs": [
    {
     "name": "stderr",
     "output_type": "stream",
     "text": [
      "c:\\users\\daniel.velasquez\\appdata\\local\\programs\\python\\python36\\lib\\site-packages\\sklearn\\model_selection\\_split.py:2026: FutureWarning: From version 0.21, test_size will always complement train_size unless both are specified.\n",
      "  FutureWarning)\n"
     ]
    },
    {
     "name": "stdout",
     "output_type": "stream",
     "text": [
      "Muestra de entrenamiento: 905\n",
      "Muestra de testing: 227\n",
      "\n",
      "Score sobre muestra de testing:\n",
      "0.9383259911894273\n",
      "\n"
     ]
    },
    {
     "name": "stderr",
     "output_type": "stream",
     "text": [
      "c:\\users\\daniel.velasquez\\appdata\\local\\programs\\python\\python36\\lib\\site-packages\\sklearn\\preprocessing\\label.py:151: DeprecationWarning: The truth value of an empty array is ambiguous. Returning False, but in future this will result in an error. Use `array.size > 0` to check that an array is not empty.\n",
      "  if diff:\n"
     ]
    },
    {
     "name": "stdout",
     "output_type": "stream",
     "text": [
      "\n",
      "Ranking:\n",
      "1. Rating Soberano País de Origen Deuda LP Moneda Extranjera (0.125493)\n",
      "2. Equity + Allowances Losses / Loans Prom. LTM (0.043696)\n",
      "3. Asset Turnover Anualizado Prom. LTM (0.041500)\n",
      "4. Productive Assets / Int. Bearing Liab. Prom. LTM (0.040473)\n",
      "5. Total Gross Loans / Total Deposits Prom. LTM (0.039659)\n",
      "6. Non-Interest Expenses / Total Income Prom. LTM (0.038156)\n",
      "7. NII / Productive Assets Prom. LTM (0.036815)\n",
      "8. NII / Productive Assets (0.036130)\n",
      "9. Total Gross Loans / Total Deposits (0.035765)\n",
      "10. Total Deposits / Total Liabilities Prom. LTM (0.034636)\n",
      "11. Equity + Allowances Losses / Loans (0.034199)\n",
      "12. Allowances / G. Loans Prom. LTM (0.033262)\n",
      "13. Leverage (ROE / ROA)\n",
      "(Act. / Pat. ) Prom. LTM (0.031958)\n",
      "14. Asset Turnover Anualizado (0.031180)\n",
      "15. Liquid Assets / Total Assets Prom. LTM (0.030528)\n",
      "16. Allowances / G. Loans (0.029936)\n",
      "17. Leverage (ROE / ROA)\n",
      "(Act. / Pat. ) (0.029615)\n",
      "18. Net Margin del Trimestre Prom. LTM (0.029382)\n",
      "19. Productive Assets / Int. Bearing Liab. (0.029362)\n",
      "20. Non-Interest Income / Total Income Prom. LTM (0.029243)\n",
      "21. Total Deposits / Total Liabilities (0.028661)\n",
      "22. Return on Assets Prom. LTM (0.027703)\n",
      "23. Prov. Exp. /  Gross Loans Prom. LTM (0.025486)\n",
      "24. Liquid Assets / Total Assets (0.025009)\n",
      "25. Return on Equity Prom. LTM (0.021664)\n",
      "26. Non-Interest Income / Total Income (0.019352)\n",
      "27. Non-Interest Expenses / Total Income (0.017192)\n",
      "28. Prov. Exp. /  Gross Loans (0.014532)\n",
      "29. Net Margin del Trimestre (0.013967)\n",
      "30. Return on Assets (0.013842)\n",
      "31. Return on Equity (0.011604)\n",
      "\n"
     ]
    },
    {
     "data": {
      "image/png": "[encoded data removed]",
      "text/plain": [
       "<Figure size 432x288 with 1 Axes>"
      ]
     },
     "metadata": {},
     "output_type": "display_data"
    }
   ],
   "source": [
    "model_training(data, feat_key, le, remove_nan, perc_train_size, output_file, model_file, sov_encoder_file)"
   ]
  },
  {
   "cell_type": "markdown",
   "metadata": {
    "collapsed": true
   },
   "source": [
    "#### 3.2.2. Entrenamiento de modelo con datos de desarrollados sin Riesgo Soberano."
   ]
  },
  {
   "cell_type": "code",
   "execution_count": 14,
   "metadata": {},
   "outputs": [
    {
     "name": "stderr",
     "output_type": "stream",
     "text": [
      "c:\\users\\daniel.velasquez\\appdata\\local\\programs\\python\\python36\\lib\\site-packages\\sklearn\\model_selection\\_split.py:2026: FutureWarning: From version 0.21, test_size will always complement train_size unless both are specified.\n",
      "  FutureWarning)\n"
     ]
    },
    {
     "name": "stdout",
     "output_type": "stream",
     "text": [
      "Muestra de entrenamiento: 905\n",
      "Muestra de testing: 227\n",
      "\n",
      "Score sobre muestra de testing:\n",
      "0.8766519823788547\n",
      "\n",
      "\n",
      "Ranking:\n",
      "1. Equity + Allowances Losses / Loans Prom. LTM (0.052114)\n",
      "2. Asset Turnover Anualizado Prom. LTM (0.048808)\n",
      "3. Total Gross Loans / Total Deposits Prom. LTM (0.046920)\n",
      "4. Productive Assets / Int. Bearing Liab. Prom. LTM (0.044194)\n",
      "5. Total Deposits / Total Liabilities Prom. LTM (0.042755)\n",
      "6. NII / Productive Assets Prom. LTM (0.042515)\n",
      "7. Non-Interest Expenses / Total Income Prom. LTM (0.042274)\n",
      "8. Equity + Allowances Losses / Loans (0.041437)\n",
      "9. NII / Productive Assets (0.040863)\n",
      "10. Allowances / G. Loans Prom. LTM (0.039578)\n",
      "11. Total Gross Loans / Total Deposits (0.039083)\n",
      "12. Leverage (ROE / ROA)\n",
      "(Act. / Pat. ) Prom. LTM (0.037580)\n",
      "13. Allowances / G. Loans (0.036577)\n",
      "14. Asset Turnover Anualizado (0.036331)\n",
      "15. Total Deposits / Total Liabilities (0.035499)\n",
      "16. Liquid Assets / Total Assets Prom. LTM (0.035101)\n",
      "17. Productive Assets / Int. Bearing Liab. (0.032306)\n",
      "18. Non-Interest Income / Total Income Prom. LTM (0.032241)\n",
      "19. Leverage (ROE / ROA)\n",
      "(Act. / Pat. ) (0.031661)\n",
      "20. Net Margin del Trimestre Prom. LTM (0.030890)\n",
      "21. Return on Assets Prom. LTM (0.029137)\n",
      "22. Prov. Exp. /  Gross Loans Prom. LTM (0.028661)\n",
      "23. Liquid Assets / Total Assets (0.026295)\n",
      "24. Return on Equity Prom. LTM (0.025290)\n",
      "25. Non-Interest Income / Total Income (0.021251)\n",
      "26. Non-Interest Expenses / Total Income (0.019026)\n",
      "27. Prov. Exp. /  Gross Loans (0.015926)\n",
      "28. Return on Assets (0.015914)\n",
      "29. Net Margin del Trimestre (0.015111)\n",
      "30. Return on Equity (0.014662)\n",
      "\n"
     ]
    },
    {
     "data": {
      "image/png": "[encoded data removed]",
      "text/plain": [
       "<Figure size 432x288 with 1 Axes>"
      ]
     },
     "metadata": {},
     "output_type": "display_data"
    }
   ],
   "source": [
    "data = pd.read_csv('data/research_data_banks.csv', sep=',', index_col = [\"Fecha\", 'Ticker'], encoding = \"latin1\")\n",
    "model_training(data, feat_key_pure, le, remove_nan, perc_train_size, output_file_pure, model_file_pure, sov_encoder_file)"
   ]
  },
  {
   "cell_type": "code",
   "execution_count": 29,
   "metadata": {},
   "outputs": [
    {
     "data": {
      "text/plain": [
       "<matplotlib.axes._subplots.AxesSubplot at 0x5f409ff6d8>"
      ]
     },
     "execution_count": 29,
     "metadata": {},
     "output_type": "execute_result"
    },
    {
     "data": {
      "image/png": "[encoded data removed]",
      "text/plain": [
       "<Figure size 432x288 with 1 Axes>"
      ]
     },
     "metadata": {},
     "output_type": "display_data"
    }
   ],
   "source": [
    "data = pd.read_csv('data/research_data_banks.csv', sep=',', index_col = [\"Fecha\", 'Ticker'], encoding = \"latin1\")\n",
    "pd.Series(np.array(data['IssuerRating'])).value_counts().plot('bar')\n"
   ]
  },
  {
   "cell_type": "code",
   "execution_count": null,
   "metadata": {},
   "outputs": [],
   "source": []
  }
 ],
 "metadata": {
  "kernelspec": {
   "display_name": "Python 3",
   "language": "python",
   "name": "python3"
  }
 },
 "nbformat": 4,
 "nbformat_minor": 2
}
